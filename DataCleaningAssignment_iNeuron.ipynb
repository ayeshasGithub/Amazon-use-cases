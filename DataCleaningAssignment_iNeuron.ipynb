{
  "nbformat": 4,
  "nbformat_minor": 0,
  "metadata": {
    "colab": {
      "name": "DataCleaningAssignment_iNeuron.ipynb",
      "provenance": [],
      "authorship_tag": "ABX9TyPJPcO1YHm7lMfsCUNcVDj8",
      "include_colab_link": true
    },
    "kernelspec": {
      "name": "python3",
      "display_name": "Python 3"
    }
  },
  "cells": [
    {
      "cell_type": "markdown",
      "metadata": {
        "id": "view-in-github",
        "colab_type": "text"
      },
      "source": [
        "<a href=\"https://colab.research.google.com/github/ayeshasGithub/Amazon-use-cases/blob/master/DataCleaningAssignment_iNeuron.ipynb\" target=\"_parent\"><img src=\"https://colab.research.google.com/assets/colab-badge.svg\" alt=\"Open In Colab\"/></a>"
      ]
    },
    {
      "cell_type": "markdown",
      "metadata": {
        "id": "4SKbAD9bgAZy",
        "colab_type": "text"
      },
      "source": [
        "link: https://drive.google.com/file/d/1ISetIhHbrX2_s8aUe5V0yMI4NwzBA32q/view \n",
        "\n",
        "https://www.kdnuggets.com/2019/08/25-tricks-pandas.html "
      ]
    },
    {
      "cell_type": "markdown",
      "metadata": {
        "id": "GDztmhlkgESW",
        "colab_type": "text"
      },
      "source": [
        "Problem Statement<br>\n",
        "<font color='blue'>\n",
        "It happens all the time: someone gives you data containing malformed strings,\n",
        "Python, lists and missing data. How do you tidy it up so you can get on with the\n",
        "analysis?<br>\n",
        "Take this monstrosity as the DataFrame to use in the following puzzles:\n",
        "</font><br>\n",
        "df = pd.DataFrame({'From_To': ['LoNDon_paris', 'MAdrid_miLAN',\n",
        "'londON_StockhOlm',\n",
        "'Budapest_PaRis', 'Brussels_londOn'],<br>\n",
        "'FlightNumber': [10045, np.nan, 10065, np.nan, 10085],<br>\n",
        "'RecentDelays': [[23, 47], [], [24, 43, 87], [13], [67, 32]],<br>\n",
        "'Airline': ['KLM(!)', '<Air France> (12)', '(British Airways. )',<br>\n",
        "'12. Air France', '\"Swiss Air\"']})<br>\n"
      ]
    },
    {
      "cell_type": "code",
      "metadata": {
        "id": "tbGg7jAFf651",
        "colab_type": "code",
        "colab": {}
      },
      "source": [
        "import pandas as pd\n",
        "import numpy as np\n",
        "\n",
        "#in the following line df has been stated as a dictionary and passed pd.DataFrame\n",
        "\n",
        "df = pd.DataFrame({'From_To': ['LoNDon_paris', 'MAdrid_miLAN', 'londON_StockhOlm', 'Budapest_PaRis', 'Brussels_londOn'],\n",
        "'FlightNumber': [10045, np.nan, 10065, np.nan, 10085],\n",
        "'RecentDelays': [[23, 47], [], [24, 43, 87], [13], [67, 32]],\n",
        "'Airline': ['KLM(!)', ' (12)', '(British Airways. )',\n",
        "'12. Air France', '\"Swiss Air\"']})\n",
        "\n",
        "\n",
        "print(df)"
      ],
      "execution_count": 0,
      "outputs": []
    },
    {
      "cell_type": "markdown",
      "metadata": {
        "id": "_3dRX348Yzpo",
        "colab_type": "text"
      },
      "source": [
        "#### 1. Some values in the the FlightNumber column are missing. <br>\n",
        "* These numbers are meant to increase by 10 with each row so 10055 and 10075 need to be put in place. <br>\n",
        "* Fill in these missing numbers and make the column an integer column (instead of a float column).<br>\n",
        "link: https://www.geeksforgeeks.org/change-data-type-for-one-or-more-columns-in-pandas-dataframe/ "
      ]
    },
    {
      "cell_type": "code",
      "metadata": {
        "id": "V4GnLp3yY3DI",
        "colab_type": "code",
        "colab": {}
      },
      "source": [
        "#isolate FlighNumber and assign the second and fourth row 100055\n",
        "print(df.dtypes)\n",
        "\n",
        "df['FlightNumber'][1]=df['FlightNumber'][0]+10\n",
        "df['FlightNumber'][3]=df['FlightNumber'][2]+10\n",
        "\n",
        "\n",
        "convert_dict = {'FlightNumber': int\n",
        "                \n",
        "               } \n",
        "  \n",
        "df = df.astype(convert_dict) \n",
        "print(df.dtypes) \n",
        "\n",
        "\n",
        "print(df['FlightNumber'])"
      ],
      "execution_count": 0,
      "outputs": []
    },
    {
      "cell_type": "markdown",
      "metadata": {
        "id": "mivqa-2DjaTd",
        "colab_type": "text"
      },
      "source": [
        "#### 2. The 'From_To' column would be better as two separate columns! <br>\n",
        "\n",
        "* Split each\n",
        "string on the underscore delimiter _ to give a new temporary DataFrame with\n",
        "the correct values. <br>\n",
        "*Assign the correct column names to this temporary\n",
        "DataFrame.<br>\n",
        "link: https://www.geeksforgeeks.org/split-a-text-column-into-two-columns-in-pandas-dataframe/ "
      ]
    },
    {
      "cell_type": "code",
      "metadata": {
        "id": "3TgDLojbqdoF",
        "colab_type": "code",
        "colab": {}
      },
      "source": [
        "#df['FlightNumber']=df['FlightNumber'].split()\n",
        "\n",
        "#new column 'From' & 'To'\n",
        "df[['From','To']] = df.From_To.str.split(\"_\",expand=True) \n",
        "\n",
        "print(df)\n",
        "#new column 'To'\n",
        "#df['To']"
      ],
      "execution_count": 0,
      "outputs": []
    },
    {
      "cell_type": "markdown",
      "metadata": {
        "id": "S0UP7kJ050tn",
        "colab_type": "text"
      },
      "source": [
        "#### 3. Notice how the capitalisation of the city names is all mixed up in this temporary DataFrame. <br>\n",
        "* Standardise the strings so that only the first letter is\n",
        "uppercase (e.g. \"londON\" should become \"London\".)<br>\n",
        "\n",
        "link: https://pandas.pydata.org/pandas-docs/stable/reference/api/pandas.Series.str.capitalize.html "
      ]
    },
    {
      "cell_type": "code",
      "metadata": {
        "id": "7CW7NrN05_Yi",
        "colab_type": "code",
        "colab": {}
      },
      "source": [
        "df.From=df.From.str.capitalize()\n",
        "df.To=df.To.str.capitalize()\n",
        "print(df)"
      ],
      "execution_count": 0,
      "outputs": []
    },
    {
      "cell_type": "markdown",
      "metadata": {
        "id": "60FW9MoXtjOI",
        "colab_type": "text"
      },
      "source": [
        "#### 4. Delete the 'From_To' column from df and attach the temporary DataFrame from the previous questions.<br>\n"
      ]
    },
    {
      "cell_type": "code",
      "metadata": {
        "id": "U9H-aOLWvWwN",
        "colab_type": "code",
        "colab": {}
      },
      "source": [
        "del df['From_To']\n",
        "print(df)"
      ],
      "execution_count": 0,
      "outputs": []
    },
    {
      "cell_type": "markdown",
      "metadata": {
        "id": "HcJNPb96vG91",
        "colab_type": "text"
      },
      "source": [
        "#### 5. In the RecentDelays column, the values have been entered into the DataFrame as a list. <br>\n",
        "* We would like each first value in its own column, each second value in its own column, and so on.\n",
        "* If there isn't an Nth value, the value should be NaN.<br>\n",
        "* Expand the Series of lists into a DataFrame named delays, rename the columns\n",
        "delay_1, delay_2, etc. \n",
        "* And replace the unwanted RecentDelays column in df\n",
        "with delays.</font>\n",
        "\n",
        "link1: https://datascience.stackexchange.com/questions/11797/split-a-list-of-values-into-columns-of-a-dataframe \n",
        "link2: Pandas column of lists, create a row for each list element\n",
        "https://stackoverflow.com/questions/27263805/pandas-column-of-lists-create-a-row-for-each-list-element \n",
        "link3: https://chrisalbon.com/python/data_wrangling/pandas_expand_cells_containing_lists/ "
      ]
    },
    {
      "cell_type": "code",
      "metadata": {
        "id": "dShthSmY1Htd",
        "colab_type": "code",
        "colab": {}
      },
      "source": [
        "#df.RecentDelays\n",
        "\n",
        "\n",
        "# expand df.RecentDelays into its own dataframe\n",
        "delays = df['RecentDelays'].apply(pd.Series)\n",
        "\n",
        "# rename each variable is delays\n",
        "delays = delays.rename(columns = lambda x : 'delay_' + str(x))\n",
        "\n",
        "# view the delays dataframe\n",
        "delays\n",
        "\n"
      ],
      "execution_count": 0,
      "outputs": []
    },
    {
      "cell_type": "code",
      "metadata": {
        "id": "IQZ6vZpNbfdd",
        "colab_type": "code",
        "colab": {}
      },
      "source": [
        "# join the delays dataframe back to the original dataframe\n",
        "df=pd.concat([df[:], delays[:]], axis=1)\n",
        "del df['RecentDelays']\n",
        "print(df)\n"
      ],
      "execution_count": 0,
      "outputs": []
    }
  ]
}