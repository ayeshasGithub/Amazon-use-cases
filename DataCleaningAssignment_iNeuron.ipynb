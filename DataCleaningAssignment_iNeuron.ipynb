{
  "nbformat": 4,
  "nbformat_minor": 0,
  "metadata": {
    "colab": {
      "name": "DataCleaningAssignment_iNeuron.ipynb",
      "provenance": [],
      "authorship_tag": "ABX9TyPJPcO1YHm7lMfsCUNcVDj8",
      "include_colab_link": true
    },
    "kernelspec": {
      "name": "python3",
      "display_name": "Python 3"
    }
  },
  "cells": [
    {
      "cell_type": "markdown",
      "metadata": {
        "id": "view-in-github",
        "colab_type": "text"
      },
      "source": [
        "<a href=\"https://colab.research.google.com/github/ayeshasGithub/Amazon-use-cases/blob/master/DataCleaningAssignment_iNeuron.ipynb\" target=\"_parent\"><img src=\"https://colab.research.google.com/assets/colab-badge.svg\" alt=\"Open In Colab\"/></a>"
      ]
    },
    {
      "cell_type": "markdown",
      "metadata": {
        "id": "4SKbAD9bgAZy",
        "colab_type": "text"
      },
      "source": [
        "link: https://drive.google.com/file/d/1ISetIhHbrX2_s8aUe5V0yMI4NwzBA32q/view \n",
        "\n",
        "https://www.kdnuggets.com/2019/08/25-tricks-pandas.html "
      ]
    },
    {
      "cell_type": "markdown",
      "metadata": {
        "id": "GDztmhlkgESW",
        "colab_type": "text"
      },
      "source": [
        "Problem Statement<br>\n",
        "<font color='blue'>\n",
        "It happens all the time: someone gives you data containing malformed strings,\n",
        "Python, lists and missing data. How do you tidy it up so you can get on with the\n",
        "analysis?<br>\n",
        "Take this monstrosity as the DataFrame to use in the following puzzles:\n",
        "</font><br>\n",
        "df = pd.DataFrame({'From_To': ['LoNDon_paris', 'MAdrid_miLAN',\n",
        "'londON_StockhOlm',\n",
        "'Budapest_PaRis', 'Brussels_londOn'],<br>\n",
        "'FlightNumber': [10045, np.nan, 10065, np.nan, 10085],<br>\n",
        "'RecentDelays': [[23, 47], [], [24, 43, 87], [13], [67, 32]],<br>\n",
        "'Airline': ['KLM(!)', '<Air France> (12)', '(British Airways. )',<br>\n",
        "'12. Air France', '\"Swiss Air\"']})<br>\n"
      ]
    },
    {
      "cell_type": "code",
      "metadata": {
        "id": "tbGg7jAFf651",
        "colab_type": "code",
        "colab": {
          "base_uri": "https://localhost:8080/",
          "height": 119
        },
        "outputId": "447cbe56-9e35-44d0-b6ba-1b3d8144d984"
      },
      "source": [
        "import pandas as pd\n",
        "import numpy as np\n",
        "\n",
        "#in the following line df has been stated as a dictionary and passed pd.DataFrame\n",
        "\n",
        "df = pd.DataFrame({'From_To': ['LoNDon_paris', 'MAdrid_miLAN', 'londON_StockhOlm', 'Budapest_PaRis', 'Brussels_londOn'],\n",
        "'FlightNumber': [10045, np.nan, 10065, np.nan, 10085],\n",
        "'RecentDelays': [[23, 47], [], [24, 43, 87], [13], [67, 32]],\n",
        "'Airline': ['KLM(!)', ' (12)', '(British Airways. )',\n",
        "'12. Air France', '\"Swiss Air\"']})\n",
        "\n",
        "\n",
        "print(df)"
      ],
      "execution_count": 1,
      "outputs": [
        {
          "output_type": "stream",
          "text": [
            "            From_To  FlightNumber  RecentDelays              Airline\n",
            "0      LoNDon_paris       10045.0      [23, 47]               KLM(!)\n",
            "1      MAdrid_miLAN           NaN            []                 (12)\n",
            "2  londON_StockhOlm       10065.0  [24, 43, 87]  (British Airways. )\n",
            "3    Budapest_PaRis           NaN          [13]       12. Air France\n",
            "4   Brussels_londOn       10085.0      [67, 32]          \"Swiss Air\"\n"
          ],
          "name": "stdout"
        }
      ]
    },
    {
      "cell_type": "markdown",
      "metadata": {
        "id": "_3dRX348Yzpo",
        "colab_type": "text"
      },
      "source": [
        "#### 1. Some values in the the FlightNumber column are missing. <br>\n",
        "* These numbers are meant to increase by 10 with each row so 10055 and 10075 need to be put in place. <br>\n",
        "* Fill in these missing numbers and make the column an integer column (instead of a float column).<br>\n",
        "link: https://www.geeksforgeeks.org/change-data-type-for-one-or-more-columns-in-pandas-dataframe/ "
      ]
    },
    {
      "cell_type": "code",
      "metadata": {
        "id": "V4GnLp3yY3DI",
        "colab_type": "code",
        "colab": {
          "base_uri": "https://localhost:8080/",
          "height": 459
        },
        "outputId": "5c2b0a86-e41e-4f6a-d741-718cc92570d6"
      },
      "source": [
        "#isolate FlighNumber and assign the second and fourth row 100055\n",
        "print(df.dtypes)\n",
        "\n",
        "df['FlightNumber'][1]=df['FlightNumber'][0]+10\n",
        "df['FlightNumber'][3]=df['FlightNumber'][2]+10\n",
        "\n",
        "\n",
        "convert_dict = {'FlightNumber': int\n",
        "                \n",
        "               } \n",
        "  \n",
        "df = df.astype(convert_dict) \n",
        "print(df.dtypes) \n",
        "\n",
        "\n",
        "print(df['FlightNumber'])"
      ],
      "execution_count": 2,
      "outputs": [
        {
          "output_type": "stream",
          "text": [
            "From_To          object\n",
            "FlightNumber    float64\n",
            "RecentDelays     object\n",
            "Airline          object\n",
            "dtype: object\n",
            "From_To         object\n",
            "FlightNumber     int64\n",
            "RecentDelays    object\n",
            "Airline         object\n",
            "dtype: object\n",
            "0    10045\n",
            "1    10055\n",
            "2    10065\n",
            "3    10075\n",
            "4    10085\n",
            "Name: FlightNumber, dtype: int64\n"
          ],
          "name": "stdout"
        },
        {
          "output_type": "stream",
          "text": [
            "/usr/local/lib/python3.6/dist-packages/ipykernel_launcher.py:4: SettingWithCopyWarning: \n",
            "A value is trying to be set on a copy of a slice from a DataFrame\n",
            "\n",
            "See the caveats in the documentation: https://pandas.pydata.org/pandas-docs/stable/user_guide/indexing.html#returning-a-view-versus-a-copy\n",
            "  after removing the cwd from sys.path.\n",
            "/usr/local/lib/python3.6/dist-packages/ipykernel_launcher.py:5: SettingWithCopyWarning: \n",
            "A value is trying to be set on a copy of a slice from a DataFrame\n",
            "\n",
            "See the caveats in the documentation: https://pandas.pydata.org/pandas-docs/stable/user_guide/indexing.html#returning-a-view-versus-a-copy\n",
            "  \"\"\"\n"
          ],
          "name": "stderr"
        }
      ]
    },
    {
      "cell_type": "markdown",
      "metadata": {
        "id": "mivqa-2DjaTd",
        "colab_type": "text"
      },
      "source": [
        "#### 2. The 'From_To' column would be better as two separate columns! <br>\n",
        "\n",
        "* Split each\n",
        "string on the underscore delimiter _ to give a new temporary DataFrame with\n",
        "the correct values. <br>\n",
        "*Assign the correct column names to this temporary\n",
        "DataFrame.<br>\n",
        "link: https://www.geeksforgeeks.org/split-a-text-column-into-two-columns-in-pandas-dataframe/ "
      ]
    },
    {
      "cell_type": "code",
      "metadata": {
        "id": "3TgDLojbqdoF",
        "colab_type": "code",
        "colab": {
          "base_uri": "https://localhost:8080/",
          "height": 153
        },
        "outputId": "917f7f90-6c1f-49d0-ec93-3e55d504007b"
      },
      "source": [
        "#df['FlightNumber']=df['FlightNumber'].split()\n",
        "\n",
        "#new column 'From' & 'To'\n",
        "df[['From','To']] = df.From_To.str.split(\"_\",expand=True) \n",
        "\n",
        "print(df)\n",
        "#new column 'To'\n",
        "#df['To']"
      ],
      "execution_count": 3,
      "outputs": [
        {
          "output_type": "stream",
          "text": [
            "            From_To  FlightNumber  ...      From         To\n",
            "0      LoNDon_paris         10045  ...    LoNDon      paris\n",
            "1      MAdrid_miLAN         10055  ...    MAdrid      miLAN\n",
            "2  londON_StockhOlm         10065  ...    londON  StockhOlm\n",
            "3    Budapest_PaRis         10075  ...  Budapest      PaRis\n",
            "4   Brussels_londOn         10085  ...  Brussels     londOn\n",
            "\n",
            "[5 rows x 6 columns]\n"
          ],
          "name": "stdout"
        }
      ]
    },
    {
      "cell_type": "markdown",
      "metadata": {
        "id": "S0UP7kJ050tn",
        "colab_type": "text"
      },
      "source": [
        "#### 3. Notice how the capitalisation of the city names is all mixed up in this temporary DataFrame. <br>\n",
        "* Standardise the strings so that only the first letter is\n",
        "uppercase (e.g. \"londON\" should become \"London\".)<br>\n",
        "\n",
        "link: https://pandas.pydata.org/pandas-docs/stable/reference/api/pandas.Series.str.capitalize.html "
      ]
    },
    {
      "cell_type": "code",
      "metadata": {
        "id": "7CW7NrN05_Yi",
        "colab_type": "code",
        "colab": {
          "base_uri": "https://localhost:8080/",
          "height": 153
        },
        "outputId": "8d8cfd76-c065-47ab-f8d0-792207b94ed6"
      },
      "source": [
        "df.From=df.From.str.capitalize()\n",
        "df.To=df.To.str.capitalize()\n",
        "print(df)"
      ],
      "execution_count": 4,
      "outputs": [
        {
          "output_type": "stream",
          "text": [
            "            From_To  FlightNumber  ...      From         To\n",
            "0      LoNDon_paris         10045  ...    London      Paris\n",
            "1      MAdrid_miLAN         10055  ...    Madrid      Milan\n",
            "2  londON_StockhOlm         10065  ...    London  Stockholm\n",
            "3    Budapest_PaRis         10075  ...  Budapest      Paris\n",
            "4   Brussels_londOn         10085  ...  Brussels     London\n",
            "\n",
            "[5 rows x 6 columns]\n"
          ],
          "name": "stdout"
        }
      ]
    },
    {
      "cell_type": "markdown",
      "metadata": {
        "id": "60FW9MoXtjOI",
        "colab_type": "text"
      },
      "source": [
        "#### 4. Delete the 'From_To' column from df and attach the temporary DataFrame from the previous questions.<br>\n"
      ]
    },
    {
      "cell_type": "code",
      "metadata": {
        "id": "U9H-aOLWvWwN",
        "colab_type": "code",
        "colab": {
          "base_uri": "https://localhost:8080/",
          "height": 119
        },
        "outputId": "7efca95f-858f-4efc-d6c1-2926a9be6cfe"
      },
      "source": [
        "del df['From_To']\n",
        "print(df)"
      ],
      "execution_count": 5,
      "outputs": [
        {
          "output_type": "stream",
          "text": [
            "   FlightNumber  RecentDelays              Airline      From         To\n",
            "0         10045      [23, 47]               KLM(!)    London      Paris\n",
            "1         10055            []                 (12)    Madrid      Milan\n",
            "2         10065  [24, 43, 87]  (British Airways. )    London  Stockholm\n",
            "3         10075          [13]       12. Air France  Budapest      Paris\n",
            "4         10085      [67, 32]          \"Swiss Air\"  Brussels     London\n"
          ],
          "name": "stdout"
        }
      ]
    },
    {
      "cell_type": "markdown",
      "metadata": {
        "id": "HcJNPb96vG91",
        "colab_type": "text"
      },
      "source": [
        "#### 5. In the RecentDelays column, the values have been entered into the DataFrame as a list. <br>\n",
        "* We would like each first value in its own column, each second value in its own column, and so on.\n",
        "* If there isn't an Nth value, the value should be NaN.<br>\n",
        "* Expand the Series of lists into a DataFrame named delays, rename the columns\n",
        "delay_1, delay_2, etc. \n",
        "* And replace the unwanted RecentDelays column in df\n",
        "with delays.</font>\n",
        "\n",
        "link1: https://datascience.stackexchange.com/questions/11797/split-a-list-of-values-into-columns-of-a-dataframe \n",
        "link2: Pandas column of lists, create a row for each list element\n",
        "https://stackoverflow.com/questions/27263805/pandas-column-of-lists-create-a-row-for-each-list-element \n",
        "link3: https://chrisalbon.com/python/data_wrangling/pandas_expand_cells_containing_lists/ "
      ]
    },
    {
      "cell_type": "code",
      "metadata": {
        "id": "dShthSmY1Htd",
        "colab_type": "code",
        "colab": {
          "base_uri": "https://localhost:8080/",
          "height": 204
        },
        "outputId": "0361a910-8aef-4b4b-eb0e-ff52ccda3984"
      },
      "source": [
        "#df.RecentDelays\n",
        "\n",
        "\n",
        "# expand df.RecentDelays into its own dataframe\n",
        "delays = df['RecentDelays'].apply(pd.Series)\n",
        "\n",
        "# rename each variable is delays\n",
        "delays = delays.rename(columns = lambda x : 'delay_' + str(x))\n",
        "\n",
        "# view the delays dataframe\n",
        "delays\n",
        "\n"
      ],
      "execution_count": 6,
      "outputs": [
        {
          "output_type": "execute_result",
          "data": {
            "text/html": [
              "<div>\n",
              "<style scoped>\n",
              "    .dataframe tbody tr th:only-of-type {\n",
              "        vertical-align: middle;\n",
              "    }\n",
              "\n",
              "    .dataframe tbody tr th {\n",
              "        vertical-align: top;\n",
              "    }\n",
              "\n",
              "    .dataframe thead th {\n",
              "        text-align: right;\n",
              "    }\n",
              "</style>\n",
              "<table border=\"1\" class=\"dataframe\">\n",
              "  <thead>\n",
              "    <tr style=\"text-align: right;\">\n",
              "      <th></th>\n",
              "      <th>delay_0</th>\n",
              "      <th>delay_1</th>\n",
              "      <th>delay_2</th>\n",
              "    </tr>\n",
              "  </thead>\n",
              "  <tbody>\n",
              "    <tr>\n",
              "      <th>0</th>\n",
              "      <td>23.0</td>\n",
              "      <td>47.0</td>\n",
              "      <td>NaN</td>\n",
              "    </tr>\n",
              "    <tr>\n",
              "      <th>1</th>\n",
              "      <td>NaN</td>\n",
              "      <td>NaN</td>\n",
              "      <td>NaN</td>\n",
              "    </tr>\n",
              "    <tr>\n",
              "      <th>2</th>\n",
              "      <td>24.0</td>\n",
              "      <td>43.0</td>\n",
              "      <td>87.0</td>\n",
              "    </tr>\n",
              "    <tr>\n",
              "      <th>3</th>\n",
              "      <td>13.0</td>\n",
              "      <td>NaN</td>\n",
              "      <td>NaN</td>\n",
              "    </tr>\n",
              "    <tr>\n",
              "      <th>4</th>\n",
              "      <td>67.0</td>\n",
              "      <td>32.0</td>\n",
              "      <td>NaN</td>\n",
              "    </tr>\n",
              "  </tbody>\n",
              "</table>\n",
              "</div>"
            ],
            "text/plain": [
              "   delay_0  delay_1  delay_2\n",
              "0     23.0     47.0      NaN\n",
              "1      NaN      NaN      NaN\n",
              "2     24.0     43.0     87.0\n",
              "3     13.0      NaN      NaN\n",
              "4     67.0     32.0      NaN"
            ]
          },
          "metadata": {
            "tags": []
          },
          "execution_count": 6
        }
      ]
    },
    {
      "cell_type": "code",
      "metadata": {
        "id": "IQZ6vZpNbfdd",
        "colab_type": "code",
        "colab": {
          "base_uri": "https://localhost:8080/",
          "height": 153
        },
        "outputId": "bff2c45d-d969-468c-a77c-475795633303"
      },
      "source": [
        "# join the delays dataframe back to the original dataframe\n",
        "df=pd.concat([df[:], delays[:]], axis=1)\n",
        "del df['RecentDelays']\n",
        "print(df)\n"
      ],
      "execution_count": 7,
      "outputs": [
        {
          "output_type": "stream",
          "text": [
            "   FlightNumber              Airline      From  ... delay_0  delay_1  delay_2\n",
            "0         10045               KLM(!)    London  ...    23.0     47.0      NaN\n",
            "1         10055                 (12)    Madrid  ...     NaN      NaN      NaN\n",
            "2         10065  (British Airways. )    London  ...    24.0     43.0     87.0\n",
            "3         10075       12. Air France  Budapest  ...    13.0      NaN      NaN\n",
            "4         10085          \"Swiss Air\"  Brussels  ...    67.0     32.0      NaN\n",
            "\n",
            "[5 rows x 7 columns]\n"
          ],
          "name": "stdout"
        }
      ]
    }
  ]
}