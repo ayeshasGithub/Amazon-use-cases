{
  "nbformat": 4,
  "nbformat_minor": 0,
  "metadata": {
    "colab": {
      "name": "Exception Handling Assignment_iNeuron",
      "provenance": [],
      "authorship_tag": "ABX9TyMkvhPI7shc/FyWzWzCPiJG",
      "include_colab_link": true
    },
    "kernelspec": {
      "name": "python3",
      "display_name": "Python 3"
    }
  },
  "cells": [
    {
      "cell_type": "markdown",
      "metadata": {
        "id": "view-in-github",
        "colab_type": "text"
      },
      "source": [
        "<a href=\"https://colab.research.google.com/github/ayeshasGithub/Amazon-use-cases/blob/master/Exception_Handling_Assignment_iNeuron.ipynb\" target=\"_parent\"><img src=\"https://colab.research.google.com/assets/colab-badge.svg\" alt=\"Open In Colab\"/></a>"
      ]
    },
    {
      "cell_type": "markdown",
      "metadata": {
        "id": "iBG8ban9YdqO",
        "colab_type": "text"
      },
      "source": [
        "link to assignment: https://drive.google.com/file/d/17_2m0rmrMtT3aPjlHyVci_zZk6UqSPXq/view "
      ]
    },
    {
      "cell_type": "markdown",
      "metadata": {
        "id": "Jz5GaSe4ZXhn",
        "colab_type": "text"
      },
      "source": [
        "1. <font color='blue'>Write a function to compute 5/0 and use try/except to catch the exceptions.\n",
        "</font>"
      ]
    },
    {
      "cell_type": "code",
      "metadata": {
        "id": "VztwMU1SYZ7e",
        "colab_type": "code",
        "colab": {
          "base_uri": "https://localhost:8080/",
          "height": 34
        },
        "outputId": "17162259-e1c1-48a1-dbea-6df314c363cf"
      },
      "source": [
        "def handle_div_by_zero(a,b):\n",
        "  \n",
        "  try:\n",
        "    div = a/b\n",
        "  except ZeroDivisionError:\n",
        "    print( \"divide by zero occured\")\n",
        "\n",
        "\n",
        "handle_div_by_zero(5,0)"
      ],
      "execution_count": 4,
      "outputs": [
        {
          "output_type": "stream",
          "text": [
            "divide by zero occured\n"
          ],
          "name": "stdout"
        }
      ]
    },
    {
      "cell_type": "markdown",
      "metadata": {
        "id": "8BpdWEObZtb6",
        "colab_type": "text"
      },
      "source": [
        "2. <font color='blue'> Implement a Python program to generate all sentences </font> <br>\n",
        "<font color='green'>\n",
        "where subject is in [\"Americans\", \"Indians\"] <br>\n",
        "and verb is in [\"Play\", \"watch\"] <br>\n",
        "and the object is in [\"Baseball\",\"cricket\"].<br>\n",
        "</font>\n",
        "Hint: Subject,Verb and Object should be declared in the program as shown below.<br>\n",
        "<font color='red'>\n",
        "subjects=[\"Americans \",\"Indians\"]<br>\n",
        "verbs=[\"play\",\"watch\"]<br>\n",
        "objects=[\"Baseball\",\"Cricket\"]<br>\n",
        "</font>\n",
        "<font color='pink'>\n",
        "Output should come as below:<br>\n",
        "</font>\n",
        "Americans play Baseball.<br>\n",
        "Americans play Cricket.<br>\n",
        "Americans watch Baseball.<br>\n",
        "Americans watch Cricket.<br>\n",
        "Indians play Baseball.<br>\n",
        "Indians play Cricket.<br>\n",
        "Indians watch Baseball.<br>\n",
        "Indians watch Cricket.<br>"
      ]
    },
    {
      "cell_type": "code",
      "metadata": {
        "id": "F1sxZOyBc7HX",
        "colab_type": "code",
        "colab": {
          "base_uri": "https://localhost:8080/",
          "height": 51
        },
        "outputId": "6b1f6358-e136-4908-d8c6-bd3ea00bbcb8"
      },
      "source": [
        "import random\n",
        "def generate_sentence(s,v,o):\n",
        "  subjects=[\"Americans \",\"Indians\"]\n",
        "  verbs=[\"play\",\"watch\"]\n",
        "  objects=[\"Baseball\",\"Cricket\"]\n",
        "\n",
        "  #print(subjects[s],' ',verbs[v],' ',objects[o],'.')\n",
        "  print(\"{} {} {}.\".format(subjects[s],verbs[v],objects[o]))\n",
        "\n",
        "\n",
        "#for x in range(10):\n",
        "  #print(random.randint(1,101))#prints 10 random number between 1 & 101\n",
        "#print(random.randint(0,1))#prints random int 0 & 1\n",
        "\n",
        "s=random.randint(0,1)\n",
        "v=random.randint(0,1)\n",
        "o=random.randint(0,1)\n",
        "generate_sentence(s,v,o)\n",
        "\n",
        "print('Run the program again to generate a new one!')\n",
        "\n",
        "\n",
        "\n"
      ],
      "execution_count": 26,
      "outputs": [
        {
          "output_type": "stream",
          "text": [
            "Indians play Cricket.\n",
            "Run the program again to generate a new one!\n"
          ],
          "name": "stdout"
        }
      ]
    },
    {
      "cell_type": "code",
      "metadata": {
        "id": "e4_DQLUXq_pW",
        "colab_type": "code",
        "colab": {
          "base_uri": "https://localhost:8080/",
          "height": 187
        },
        "outputId": "1570bbd4-4eac-4e9d-b997-6fc7071af158"
      },
      "source": [
        "import random\n",
        "for x in range(10):\n",
        "  print(random.randint(1,101))"
      ],
      "execution_count": 6,
      "outputs": [
        {
          "output_type": "stream",
          "text": [
            "24\n",
            "35\n",
            "42\n",
            "51\n",
            "90\n",
            "71\n",
            "99\n",
            "32\n",
            "68\n",
            "76\n"
          ],
          "name": "stdout"
        }
      ]
    }
  ]
}